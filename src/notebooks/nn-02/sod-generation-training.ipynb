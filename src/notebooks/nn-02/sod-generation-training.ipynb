{
 "cells": [
  {
   "cell_type": "code",
   "execution_count": 15,
   "id": "0bf01c8c-2fb5-4273-911f-390b55da2f7c",
   "metadata": {},
   "outputs": [],
   "source": [
    "import numpy as np\n",
    "import matplotlib.pyplot as plt\n",
    "from exact_solvers import euler\n",
    "import random\n",
    "import torch\n",
    "from torch.utils.data import Dataset, DataLoader\n",
    "from torch import optim, nn, utils, Tensor\n",
    "import torch.nn.functional as F\n",
    "import lightning.pytorch as pl\n",
    "import mlflow.pytorch\n",
    "from sklearn.preprocessing import StandardScaler"
   ]
  },
  {
   "cell_type": "code",
   "execution_count": 16,
   "id": "6ac5f339-2786-419a-b762-7ba4d32376a0",
   "metadata": {},
   "outputs": [
    {
     "data": {
      "application/vnd.jupyter.widget-view+json": {
       "model_id": "4a88aca705b3420a83d2d07b2681acac",
       "version_major": 2,
       "version_minor": 0
      },
      "text/plain": [
       "interactive(children=(FloatSlider(value=0.5, description='t', max=0.9), Dropdown(description='Show characteris…"
      ]
     },
     "metadata": {},
     "output_type": "display_data"
    }
   ],
   "source": [
    "State = euler.Primitive_State\n",
    "left_state  = State(Density = 1.0,\n",
    "                    Velocity = 0.0,\n",
    "                    Pressure = 0.1)\n",
    "right_state = State(Density = 3.0,\n",
    "                    Velocity = 0.0,\n",
    "                    Pressure = 15.1)\n",
    "\n",
    "euler.riemann_solution(left_state,right_state)"
   ]
  },
  {
   "cell_type": "code",
   "execution_count": 17,
   "id": "b4d9d93a-48e3-4cce-ac58-ce1013b13a3b",
   "metadata": {},
   "outputs": [
    {
     "data": {
      "text/plain": [
       "[<matplotlib.lines.Line2D at 0x3908fbb10>]"
      ]
     },
     "execution_count": 17,
     "metadata": {},
     "output_type": "execute_result"
    },
    {
     "data": {
      "image/png": "[encoded data removed]",
      "text/plain": [
       "<Figure size 640x480 with 1 Axes>"
      ]
     },
     "metadata": {},
     "output_type": "display_data"
    }
   ],
   "source": [
    "q_l = euler.primitive_to_conservative(*left_state)\n",
    "q_r = euler.primitive_to_conservative(*right_state)\n",
    "states, speeds, reval, wave_types = euler.exact_riemann_solution(q_l, q_r, gamma=1.4)\n",
    "\n",
    "x = np.linspace(-2,2,int(1e2))\n",
    "P = euler.cons_to_prim(reval(x/0.01))[2]\n",
    "plt.plot(x,P)"
   ]
  },
  {
   "cell_type": "code",
   "execution_count": 18,
   "id": "1462e815-9d03-4386-8ebd-d6ea5cb8e95a",
   "metadata": {},
   "outputs": [
    {
     "name": "stdout",
     "output_type": "stream",
     "text": [
      "512\n"
     ]
    }
   ],
   "source": [
    "scaler = StandardScaler()\n",
    "\n",
    "stencil = 5\n",
    "offset = stencil//2\n",
    "\n",
    "inputs = []\n",
    "labels = []\n",
    "\n",
    "gammas = np.linspace(1.1, 2.0, 10)\n",
    "times = np.linspace(1e-10, 1.0, 100)\n",
    "PLs = np.linspace(3, 13, 5)\n",
    "# PRs = np.linspace(3, 13, 5)\n",
    "PRs = [0.1]\n",
    "# grid_sizes = np.power(2, np.arange(6, 12))\n",
    "grid_sizes = [512]\n",
    "\n",
    "for gs in grid_sizes:\n",
    "    print(gs)\n",
    "    N = gs\n",
    "    a = -2.0\n",
    "    b = 2.0\n",
    "\n",
    "    x = np.linspace(a, b, N)\n",
    "    dx = (b - a)/N\n",
    "    \n",
    "    div = np.zeros(N)\n",
    "    \n",
    "    for PL in PLs:\n",
    "        for PR in PRs:\n",
    "            left_state  = State(Density = 3.,\n",
    "                                Velocity = 0.,\n",
    "                                Pressure = PL)\n",
    "            right_state = State(Density = 1.,\n",
    "                                Velocity = 0.,\n",
    "                                Pressure = PR)\n",
    "            \n",
    "            q_l = euler.primitive_to_conservative(*left_state)\n",
    "            q_r = euler.primitive_to_conservative(*right_state)\n",
    "            \n",
    "            \n",
    "            for gamma in gammas:\n",
    "            \n",
    "                states, speeds, reval, wave_types = euler.exact_riemann_solution(q_l, q_r, gamma=gamma)    \n",
    "                \n",
    "                for t in times:\n",
    "                    rho, u, P = euler.cons_to_prim(reval(x/t))\n",
    "\n",
    "                    if (PL > PR):\n",
    "                        \n",
    "                        raref_l, raref_r = speeds[0][0] * t, speeds[0][1] * t\n",
    "                        contact = speeds[1] * t\n",
    "                        shock = speeds[2] * t\n",
    "                    elif (PR > PL):\n",
    "                        raref_l, raref_r = speeds[2][0] * t, speeds[2][1] * t\n",
    "                        contact = speeds[1] * t\n",
    "                        shock = speeds[0] * t\n",
    "                    else:\n",
    "                        continue\n",
    "                \n",
    "                    div[1:-2] = (u[2:-1] - u[0:-3])/(2 * dx)\n",
    "                    rho, u, P, div = StandardScaler().fit_transform(rho.reshape(-1,1)).flatten(), StandardScaler().fit_transform(u.reshape(-1,1)).flatten(), StandardScaler().fit_transform(P.reshape(-1,1)).flatten(),StandardScaler().fit_transform(div.reshape(-1,1)).flatten()\n",
    "                    \n",
    "                    #shock_loc = np.logical_and(x > (shock - eps),x < (shock + eps))\n",
    "                    for i in range(offset, N - offset):\n",
    "                        input = np.zeros((4,stencil))\n",
    "                        input[0, :] = rho[(i-offset):(i + offset + 1)]\n",
    "                        #input[0, :] -= np.mean(rho[(i-offset):(i + offset + 1)])\n",
    "                        input[1, :] = u[(i-offset):(i + offset + 1)]\n",
    "                        #input[1, :] -= np.mean(u[(i-offset):(i + offset + 1)])\n",
    "                        input[2, :] = P[(i-offset):(i + offset + 1)]\n",
    "                        #input[2, :] -= np.mean(P[(i-offset):(i + offset + 1)])\n",
    "                        input[3, :] = div[(i-offset):(i + offset + 1)]\n",
    "                        #input[3, :] -= np.mean(div[(i-offset):(i + offset + 1)])\n",
    "                        inputs.append(input)\n",
    "                        #if np.any(x[(i-offset):(i + offset + 1)] >= shock) and np.any(x[(i-offset):(i + offset + 1)] <= shock):\n",
    "                        if np.any(x[(i-offset):(i + offset + 1)] > shock) and np.any(x[(i-offset):(i + offset + 1)] < shock):\n",
    "                            labels.append(1)\n",
    "                        else:\n",
    "                            labels.append(0)\n",
    "            \n",
    "\n",
    "# random.seed(42)\n",
    "# indices_0 = [i for i, label in enumerate(labels) if label == 0]\n",
    "# indices_1 = [i for i, label in enumerate(labels) if label == 1]\n",
    "\n",
    "# # Randomly select a subset of 0s with the same size as the number of 1s\n",
    "# subset_indices_0 = random.sample(indices_0, len(indices_1))\n",
    "\n",
    "# # Create new balanced lists\n",
    "# balanced_inputs = [inputs[i] for i in subset_indices_0 + indices_1]\n",
    "# balanced_labels = [labels[i] for i in subset_indices_0 + indices_1]"
   ]
  },
  {
   "cell_type": "code",
   "execution_count": 19,
   "id": "9a7a71f9-3d2c-4fac-93a5-544075e63ce0",
   "metadata": {},
   "outputs": [
    {
     "name": "stdout",
     "output_type": "stream",
     "text": [
      "512\n"
     ]
    }
   ],
   "source": [
    "\n",
    "gammas = np.linspace(1.1, 2.0, 10)\n",
    "times = np.linspace(1e-10, 1.0, 100)\n",
    "PRs = np.linspace(3, 13, 5)\n",
    "# PRs = np.linspace(3, 13, 5)\n",
    "PLs = [0.1]\n",
    "#grid_sizes = np.power(2, np.arange(6, 12))\n",
    "grid_sizes = [512]\n",
    "\n",
    "for gs in grid_sizes:\n",
    "    print(gs)\n",
    "    N = gs\n",
    "    a = -2.0\n",
    "    b = 2.0\n",
    "\n",
    "    x = np.linspace(a, b, N)\n",
    "    dx = (b - a)/N\n",
    "    \n",
    "    div = np.zeros(N)\n",
    "    \n",
    "    for PL in PLs:\n",
    "        for PR in PRs:\n",
    "            left_state  = State(Density = 1.,\n",
    "                                Velocity = 0.,\n",
    "                                Pressure = PL)\n",
    "            right_state = State(Density = 3.,\n",
    "                                Velocity = 0.,\n",
    "                                Pressure = PR)\n",
    "            \n",
    "            q_l = euler.primitive_to_conservative(*left_state)\n",
    "            q_r = euler.primitive_to_conservative(*right_state)\n",
    "            \n",
    "            \n",
    "            for gamma in gammas:\n",
    "            \n",
    "                states, speeds, reval, wave_types = euler.exact_riemann_solution(q_l, q_r, gamma=gamma)    \n",
    "                \n",
    "                for t in times:\n",
    "                    rho, u, P = euler.cons_to_prim(reval(x/t))\n",
    "\n",
    "                    if (PL > PR):\n",
    "                        \n",
    "                        raref_l, raref_r = speeds[0][0] * t, speeds[0][1] * t\n",
    "                        contact = speeds[1] * t\n",
    "                        shock = speeds[2] * t\n",
    "                    elif (PR > PL):\n",
    "                        raref_l, raref_r = speeds[2][0] * t, speeds[2][1] * t\n",
    "                        contact = speeds[1] * t\n",
    "                        shock = speeds[0] * t\n",
    "                    else:\n",
    "                        continue\n",
    "                \n",
    "                    div[1:-2] = (u[2:-1] - u[0:-3])/(2 * dx)\n",
    "                    rho, u, P, div = StandardScaler().fit_transform(rho.reshape(-1,1)).flatten(), StandardScaler().fit_transform(u.reshape(-1,1)).flatten(), StandardScaler().fit_transform(P.reshape(-1,1)).flatten(),StandardScaler().fit_transform(div.reshape(-1,1)).flatten()\n",
    "\n",
    "                    \n",
    "                    #shock_loc = np.logical_and(x > (shock - eps),x < (shock + eps))\n",
    "                    for i in range(offset, N - offset):\n",
    "                        input = np.zeros((4,stencil))\n",
    "                        input[0, :] = rho[(i-offset):(i + offset + 1)]\n",
    "                        #input[0, :] -= np.mean(rho[(i-offset):(i + offset + 1)])\n",
    "                        input[1, :] = u[(i-offset):(i + offset + 1)]\n",
    "                        #input[1, :] -= np.mean(u[(i-offset):(i + offset + 1)])\n",
    "                        input[2, :] = P[(i-offset):(i + offset + 1)]\n",
    "                        #input[2, :] -= np.mean(P[(i-offset):(i + offset + 1)])\n",
    "                        input[3, :] = div[(i-offset):(i + offset + 1)]\n",
    "                        #input[3, :] -= np.mean(div[(i-offset):(i + offset + 1)])\n",
    "                        inputs.append(input)\n",
    "                        #if np.any(x[(i-offset):(i + offset + 1)] >= shock) and np.any(x[(i-offset):(i + offset + 1)] <= shock):\n",
    "                        if np.any(x[(i-offset):(i + offset + 1)] > shock) and np.any(x[(i-offset):(i + offset + 1)] < shock):\n",
    "                            labels.append(1)\n",
    "                        else:\n",
    "                            labels.append(0)\n",
    "            \n",
    "\n",
    "random.seed(42)\n",
    "indices_0 = [i for i, label in enumerate(labels) if label == 0]\n",
    "indices_1 = [i for i, label in enumerate(labels) if label == 1]\n",
    "\n",
    "# Randomly select a subset of 0s with the same size as the number of 1s\n",
    "subset_indices_0 = random.sample(indices_0, len(indices_1))\n",
    "\n",
    "# Create new balanced lists\n",
    "balanced_inputs = [inputs[i] for i in subset_indices_0 + indices_1]\n",
    "balanced_labels = [labels[i] for i in subset_indices_0 + indices_1]"
   ]
  },
  {
   "cell_type": "code",
   "execution_count": null,
   "id": "efbe1651-9f31-47b7-a5ed-3e3c721311be",
   "metadata": {},
   "outputs": [],
   "source": [
    "train_data = []\n",
    "for i, l in zip(balanced_inputs, balanced_labels):\n",
    "    train_data.append([torch.tensor(i.flatten(), dtype=torch.float32), torch.tensor(l, dtype=torch.float32)])\n",
    "    \n",
    "class CustomDataset(Dataset):\n",
    "    def __init__(self, data):\n",
    "        self.data = data\n",
    "\n",
    "    def __len__(self):\n",
    "        return len(self.data)\n",
    "\n",
    "    def __getitem__(self, index):\n",
    "        sample = self.data[index]\n",
    "\n",
    "        # Assuming the first element is the input tensor and the second element is the label tensor\n",
    "        input_tensor = torch.Tensor(sample[0])\n",
    "        label_tensor = torch.Tensor(sample[1])\n",
    "\n",
    "        return input_tensor, label_tensor\n",
    "        \n",
    "dataset = CustomDataset(train_data)\n",
    "seed = torch.Generator().manual_seed(42)\n",
    "train_set, valid_set = torch.utils.data.random_split(dataset, [0.8, 0.2], generator=seed)"
   ]
  },
  {
   "cell_type": "code",
   "execution_count": null,
   "id": "97932eea-1045-4005-a316-07fbb81e175f",
   "metadata": {},
   "outputs": [],
   "source": [
    "torch.save(train_set, \"../../../data/ds-2/train_set.pt\")\n",
    "torch.save(valid_set, \"../../../data/ds-2/valid_set.pt\")\n",
    "print (len(train_set))\n",
    "print (len(valid_set))"
   ]
  },
  {
   "cell_type": "code",
   "execution_count": null,
   "id": "69b14353-fe5e-47aa-8efa-0f4cc75c8bf3",
   "metadata": {},
   "outputs": [],
   "source": [
    "class Shock_Cell_Classifier(pl.LightningModule):\n",
    "    def __init__(self, input_dim, lr = 1e-4, wd = 1.0e-5):\n",
    "        super().__init__()\n",
    "        self.save_hyperparameters()\n",
    "\n",
    "        # self.fc1 = nn.Linear(self.hparams.input_dim, 16)\n",
    "        # self.fc2 = nn.Linear(16, 2)\n",
    "        \n",
    "        self.fc1 = nn.Linear(self.hparams.input_dim, self.hparams.input_dim)\n",
    "        self.fc2 = nn.Linear(self.hparams.input_dim, 2)\n",
    "        # self.fc3 = nn.Linear(8, 2)\n",
    "\n",
    "        self.dropout5 = nn.Dropout(0.50)\n",
    "        self.dropout2 = nn.Dropout(0.20)\n",
    "\n",
    "        nn.init.xavier_uniform_(self.fc1.weight)\n",
    "        nn.init.xavier_uniform_(self.fc2.weight)\n",
    "        # nn.init.xavier_uniform_(self.fc3.weight)\n",
    "        \n",
    "        #Initialize bias terms to zero\n",
    "        nn.init.constant_(self.fc1.bias, 0)\n",
    "        nn.init.constant_(self.fc2.bias, 0)\n",
    "        # nn.init.constant_(self.fc3.bias, 0)\n",
    "\n",
    "        self.loss_fn = nn.CrossEntropyLoss()\n",
    "\n",
    "        # self.logger.log_hyperparams()\n",
    "    def forward(self, x):\n",
    "        # x = self.dropout2(x)\n",
    "        x = self.fc1(x)\n",
    "        x = F.leaky_relu(x)\n",
    "        x = self.dropout5(x)\n",
    "        x = self.fc2(x)\n",
    "        # x = F.leaky_relu(x)\n",
    "        # x = self.fc3(x)\n",
    "\n",
    "        return x\n",
    "\n",
    "    def training_step(self, batch, batch_idx):\n",
    "        # training_step defines the train loop.\n",
    "        # it is independent of forward\n",
    "        inputs, labels = batch\n",
    "        \n",
    "        output = self.forward(inputs)\n",
    "\n",
    "        \n",
    "        loss = self.loss_fn(output, labels.long())\n",
    "        \n",
    "        self.log(\"train_loss\", loss)\n",
    "        return loss\n",
    "\n",
    "    def validation_step(self, batch, batch_idx):\n",
    "        # this is the validation loop\n",
    "        inputs, labels = batch\n",
    "        \n",
    "        output = self.forward(inputs)\n",
    "        \n",
    "        val_loss = self.loss_fn(output, labels.long())\n",
    "        self.log(\"val_loss\", val_loss)\n",
    "\n",
    "    def configure_optimizers(self):\n",
    "        optimizer = optim.Adam(self.parameters(), lr=self.hparams.lr, weight_decay=self.hparams.wd)\n",
    "        return optimizer\n",
    "\n",
    "\n",
    "# init the classifier\n",
    "classifier = Shock_Cell_Classifier(stencil*4)"
   ]
  },
  {
   "cell_type": "code",
   "execution_count": null,
   "id": "7357d819-1ae0-4bbc-becb-a3eda54bb863",
   "metadata": {},
   "outputs": [
    {
     "name": "stderr",
     "output_type": "stream",
     "text": [
      "INFO:pytorch_lightning.utilities.rank_zero:GPU available: True (mps), used: False\n",
      "INFO:pytorch_lightning.utilities.rank_zero:TPU available: False, using: 0 TPU cores\n",
      "INFO:pytorch_lightning.utilities.rank_zero:IPU available: False, using: 0 IPUs\n",
      "INFO:pytorch_lightning.utilities.rank_zero:HPU available: False, using: 0 HPUs\n",
      "/Users/henry/euler-nn/.venv/lib/python3.11/site-packages/lightning/pytorch/trainer/setup.py:187: GPU available but not used. You can set it by doing `Trainer(accelerator='gpu')`.\n",
      "2024/04/02 07:15:52 WARNING mlflow.utils.autologging_utils: You are using an unsupported version of pytorch. If you encounter errors during autologging, try upgrading / downgrading pytorch to a supported version, or try upgrading MLflow.\n"
     ]
    },
    {
     "ename": "MissingConfigException",
     "evalue": "Yaml file '/Users/henry/euler-nn/src/notebooks/nn-02/mlruns/0/meta.yaml' does not exist.",
     "output_type": "error",
     "traceback": [
      "\u001b[0;31m---------------------------------------------------------------------------\u001b[0m",
      "\u001b[0;31mMissingConfigException\u001b[0m                    Traceback (most recent call last)",
      "Cell \u001b[0;32mIn[14], line 12\u001b[0m\n\u001b[1;32m      8\u001b[0m trainer \u001b[38;5;241m=\u001b[39m pl\u001b[38;5;241m.\u001b[39mTrainer(max_epochs\u001b[38;5;241m=\u001b[39m\u001b[38;5;241m10\u001b[39m,\n\u001b[1;32m      9\u001b[0m                      accelerator\u001b[38;5;241m=\u001b[39m\u001b[38;5;124m\"\u001b[39m\u001b[38;5;124mcpu\u001b[39m\u001b[38;5;124m\"\u001b[39m)\n\u001b[1;32m     11\u001b[0m mlflow\u001b[38;5;241m.\u001b[39mpytorch\u001b[38;5;241m.\u001b[39mautolog()\n\u001b[0;32m---> 12\u001b[0m \u001b[38;5;28;01mwith\u001b[39;00m \u001b[43mmlflow\u001b[49m\u001b[38;5;241;43m.\u001b[39;49m\u001b[43mstart_run\u001b[49m\u001b[43m(\u001b[49m\u001b[43m)\u001b[49m \u001b[38;5;28;01mas\u001b[39;00m run:\n\u001b[1;32m     13\u001b[0m     \u001b[38;5;66;03m# mlflow.pytorch.log_model(classifier, \"model\")\u001b[39;00m\n\u001b[1;32m     14\u001b[0m     mlflow\u001b[38;5;241m.\u001b[39mlog_params({\n\u001b[1;32m     15\u001b[0m             \u001b[38;5;124m\"\u001b[39m\u001b[38;5;124mbatch_size\u001b[39m\u001b[38;5;124m\"\u001b[39m: batch_size,\n\u001b[1;32m     16\u001b[0m         })\n\u001b[1;32m     17\u001b[0m     trainer\u001b[38;5;241m.\u001b[39mfit(model\u001b[38;5;241m=\u001b[39mclassifier,\n\u001b[1;32m     18\u001b[0m                 train_dataloaders\u001b[38;5;241m=\u001b[39mtrain_loader,\n\u001b[1;32m     19\u001b[0m                 val_dataloaders\u001b[38;5;241m=\u001b[39mvalid_loader)\n",
      "File \u001b[0;32m~/euler-nn/.venv/lib/python3.11/site-packages/mlflow/tracking/fluent.py:381\u001b[0m, in \u001b[0;36mstart_run\u001b[0;34m(run_id, experiment_id, run_name, nested, tags, description, log_system_metrics)\u001b[0m\n\u001b[1;32m    377\u001b[0m         user_specified_tags[MLFLOW_RUN_NAME] \u001b[38;5;241m=\u001b[39m run_name\n\u001b[1;32m    379\u001b[0m     resolved_tags \u001b[38;5;241m=\u001b[39m context_registry\u001b[38;5;241m.\u001b[39mresolve_tags(user_specified_tags)\n\u001b[0;32m--> 381\u001b[0m     active_run_obj \u001b[38;5;241m=\u001b[39m \u001b[43mclient\u001b[49m\u001b[38;5;241;43m.\u001b[39;49m\u001b[43mcreate_run\u001b[49m\u001b[43m(\u001b[49m\n\u001b[1;32m    382\u001b[0m \u001b[43m        \u001b[49m\u001b[43mexperiment_id\u001b[49m\u001b[38;5;241;43m=\u001b[39;49m\u001b[43mexp_id_for_run\u001b[49m\u001b[43m,\u001b[49m\n\u001b[1;32m    383\u001b[0m \u001b[43m        \u001b[49m\u001b[43mtags\u001b[49m\u001b[38;5;241;43m=\u001b[39;49m\u001b[43mresolved_tags\u001b[49m\u001b[43m,\u001b[49m\n\u001b[1;32m    384\u001b[0m \u001b[43m        \u001b[49m\u001b[43mrun_name\u001b[49m\u001b[38;5;241;43m=\u001b[39;49m\u001b[43mrun_name\u001b[49m\u001b[43m,\u001b[49m\n\u001b[1;32m    385\u001b[0m \u001b[43m    \u001b[49m\u001b[43m)\u001b[49m\n\u001b[1;32m    387\u001b[0m \u001b[38;5;28;01mif\u001b[39;00m log_system_metrics \u001b[38;5;129;01mis\u001b[39;00m \u001b[38;5;28;01mNone\u001b[39;00m:\n\u001b[1;32m    388\u001b[0m     \u001b[38;5;66;03m# If `log_system_metrics` is not specified, we will check environment variable.\u001b[39;00m\n\u001b[1;32m    389\u001b[0m     log_system_metrics \u001b[38;5;241m=\u001b[39m MLFLOW_ENABLE_SYSTEM_METRICS_LOGGING\u001b[38;5;241m.\u001b[39mget()\n",
      "File \u001b[0;32m~/euler-nn/.venv/lib/python3.11/site-packages/mlflow/tracking/client.py:353\u001b[0m, in \u001b[0;36mMlflowClient.create_run\u001b[0;34m(self, experiment_id, start_time, tags, run_name)\u001b[0m\n\u001b[1;32m    299\u001b[0m \u001b[38;5;28;01mdef\u001b[39;00m \u001b[38;5;21mcreate_run\u001b[39m(\n\u001b[1;32m    300\u001b[0m     \u001b[38;5;28mself\u001b[39m,\n\u001b[1;32m    301\u001b[0m     experiment_id: \u001b[38;5;28mstr\u001b[39m,\n\u001b[0;32m   (...)\u001b[0m\n\u001b[1;32m    304\u001b[0m     run_name: Optional[\u001b[38;5;28mstr\u001b[39m] \u001b[38;5;241m=\u001b[39m \u001b[38;5;28;01mNone\u001b[39;00m,\n\u001b[1;32m    305\u001b[0m ) \u001b[38;5;241m-\u001b[39m\u001b[38;5;241m>\u001b[39m Run:\n\u001b[1;32m    306\u001b[0m \u001b[38;5;250m    \u001b[39m\u001b[38;5;124;03m\"\"\"\u001b[39;00m\n\u001b[1;32m    307\u001b[0m \u001b[38;5;124;03m    Create a :py:class:`mlflow.entities.Run` object that can be associated with\u001b[39;00m\n\u001b[1;32m    308\u001b[0m \u001b[38;5;124;03m    metrics, parameters, artifacts, etc.\u001b[39;00m\n\u001b[0;32m   (...)\u001b[0m\n\u001b[1;32m    351\u001b[0m \u001b[38;5;124;03m        status: RUNNING\u001b[39;00m\n\u001b[1;32m    352\u001b[0m \u001b[38;5;124;03m    \"\"\"\u001b[39;00m\n\u001b[0;32m--> 353\u001b[0m     \u001b[38;5;28;01mreturn\u001b[39;00m \u001b[38;5;28;43mself\u001b[39;49m\u001b[38;5;241;43m.\u001b[39;49m\u001b[43m_tracking_client\u001b[49m\u001b[38;5;241;43m.\u001b[39;49m\u001b[43mcreate_run\u001b[49m\u001b[43m(\u001b[49m\u001b[43mexperiment_id\u001b[49m\u001b[43m,\u001b[49m\u001b[43m \u001b[49m\u001b[43mstart_time\u001b[49m\u001b[43m,\u001b[49m\u001b[43m \u001b[49m\u001b[43mtags\u001b[49m\u001b[43m,\u001b[49m\u001b[43m \u001b[49m\u001b[43mrun_name\u001b[49m\u001b[43m)\u001b[49m\n",
      "File \u001b[0;32m~/euler-nn/.venv/lib/python3.11/site-packages/mlflow/tracking/_tracking_service/client.py:139\u001b[0m, in \u001b[0;36mTrackingServiceClient.create_run\u001b[0;34m(self, experiment_id, start_time, tags, run_name)\u001b[0m\n\u001b[1;32m    134\u001b[0m \u001b[38;5;66;03m# Extract user from tags\u001b[39;00m\n\u001b[1;32m    135\u001b[0m \u001b[38;5;66;03m# This logic is temporary; the user_id attribute of runs is deprecated and will be removed\u001b[39;00m\n\u001b[1;32m    136\u001b[0m \u001b[38;5;66;03m# in a later release.\u001b[39;00m\n\u001b[1;32m    137\u001b[0m user_id \u001b[38;5;241m=\u001b[39m tags\u001b[38;5;241m.\u001b[39mget(MLFLOW_USER, \u001b[38;5;124m\"\u001b[39m\u001b[38;5;124munknown\u001b[39m\u001b[38;5;124m\"\u001b[39m)\n\u001b[0;32m--> 139\u001b[0m \u001b[38;5;28;01mreturn\u001b[39;00m \u001b[38;5;28;43mself\u001b[39;49m\u001b[38;5;241;43m.\u001b[39;49m\u001b[43mstore\u001b[49m\u001b[38;5;241;43m.\u001b[39;49m\u001b[43mcreate_run\u001b[49m\u001b[43m(\u001b[49m\n\u001b[1;32m    140\u001b[0m \u001b[43m    \u001b[49m\u001b[43mexperiment_id\u001b[49m\u001b[38;5;241;43m=\u001b[39;49m\u001b[43mexperiment_id\u001b[49m\u001b[43m,\u001b[49m\n\u001b[1;32m    141\u001b[0m \u001b[43m    \u001b[49m\u001b[43muser_id\u001b[49m\u001b[38;5;241;43m=\u001b[39;49m\u001b[43muser_id\u001b[49m\u001b[43m,\u001b[49m\n\u001b[1;32m    142\u001b[0m \u001b[43m    \u001b[49m\u001b[43mstart_time\u001b[49m\u001b[38;5;241;43m=\u001b[39;49m\u001b[43mstart_time\u001b[49m\u001b[43m \u001b[49m\u001b[38;5;129;43;01mor\u001b[39;49;00m\u001b[43m \u001b[49m\u001b[43mget_current_time_millis\u001b[49m\u001b[43m(\u001b[49m\u001b[43m)\u001b[49m\u001b[43m,\u001b[49m\n\u001b[1;32m    143\u001b[0m \u001b[43m    \u001b[49m\u001b[43mtags\u001b[49m\u001b[38;5;241;43m=\u001b[39;49m\u001b[43m[\u001b[49m\u001b[43mRunTag\u001b[49m\u001b[43m(\u001b[49m\u001b[43mkey\u001b[49m\u001b[43m,\u001b[49m\u001b[43m \u001b[49m\u001b[43mvalue\u001b[49m\u001b[43m)\u001b[49m\u001b[43m \u001b[49m\u001b[38;5;28;43;01mfor\u001b[39;49;00m\u001b[43m \u001b[49m\u001b[43m(\u001b[49m\u001b[43mkey\u001b[49m\u001b[43m,\u001b[49m\u001b[43m \u001b[49m\u001b[43mvalue\u001b[49m\u001b[43m)\u001b[49m\u001b[43m \u001b[49m\u001b[38;5;129;43;01min\u001b[39;49;00m\u001b[43m \u001b[49m\u001b[43mtags\u001b[49m\u001b[38;5;241;43m.\u001b[39;49m\u001b[43mitems\u001b[49m\u001b[43m(\u001b[49m\u001b[43m)\u001b[49m\u001b[43m]\u001b[49m\u001b[43m,\u001b[49m\n\u001b[1;32m    144\u001b[0m \u001b[43m    \u001b[49m\u001b[43mrun_name\u001b[49m\u001b[38;5;241;43m=\u001b[39;49m\u001b[43mrun_name\u001b[49m\u001b[43m,\u001b[49m\n\u001b[1;32m    145\u001b[0m \u001b[43m\u001b[49m\u001b[43m)\u001b[49m\n",
      "File \u001b[0;32m~/euler-nn/.venv/lib/python3.11/site-packages/mlflow/store/tracking/file_store.py:607\u001b[0m, in \u001b[0;36mFileStore.create_run\u001b[0;34m(self, experiment_id, user_id, start_time, tags, run_name)\u001b[0m\n\u001b[1;32m    603\u001b[0m \u001b[38;5;250m\u001b[39m\u001b[38;5;124;03m\"\"\"\u001b[39;00m\n\u001b[1;32m    604\u001b[0m \u001b[38;5;124;03mCreates a run with the specified attributes.\u001b[39;00m\n\u001b[1;32m    605\u001b[0m \u001b[38;5;124;03m\"\"\"\u001b[39;00m\n\u001b[1;32m    606\u001b[0m experiment_id \u001b[38;5;241m=\u001b[39m FileStore\u001b[38;5;241m.\u001b[39mDEFAULT_EXPERIMENT_ID \u001b[38;5;28;01mif\u001b[39;00m experiment_id \u001b[38;5;129;01mis\u001b[39;00m \u001b[38;5;28;01mNone\u001b[39;00m \u001b[38;5;28;01melse\u001b[39;00m experiment_id\n\u001b[0;32m--> 607\u001b[0m experiment \u001b[38;5;241m=\u001b[39m \u001b[38;5;28;43mself\u001b[39;49m\u001b[38;5;241;43m.\u001b[39;49m\u001b[43mget_experiment\u001b[49m\u001b[43m(\u001b[49m\u001b[43mexperiment_id\u001b[49m\u001b[43m)\u001b[49m\n\u001b[1;32m    608\u001b[0m \u001b[38;5;28;01mif\u001b[39;00m experiment \u001b[38;5;129;01mis\u001b[39;00m \u001b[38;5;28;01mNone\u001b[39;00m:\n\u001b[1;32m    609\u001b[0m     \u001b[38;5;28;01mraise\u001b[39;00m MlflowException(\n\u001b[1;32m    610\u001b[0m         \u001b[38;5;124m\"\u001b[39m\u001b[38;5;124mCould not create run under experiment with ID \u001b[39m\u001b[38;5;132;01m%s\u001b[39;00m\u001b[38;5;124m - no such experiment \u001b[39m\u001b[38;5;124m\"\u001b[39m\n\u001b[1;32m    611\u001b[0m         \u001b[38;5;124m\"\u001b[39m\u001b[38;5;124mexists.\u001b[39m\u001b[38;5;124m\"\u001b[39m \u001b[38;5;241m%\u001b[39m experiment_id,\n\u001b[1;32m    612\u001b[0m         databricks_pb2\u001b[38;5;241m.\u001b[39mRESOURCE_DOES_NOT_EXIST,\n\u001b[1;32m    613\u001b[0m     )\n",
      "File \u001b[0;32m~/euler-nn/.venv/lib/python3.11/site-packages/mlflow/store/tracking/file_store.py:421\u001b[0m, in \u001b[0;36mFileStore.get_experiment\u001b[0;34m(self, experiment_id)\u001b[0m\n\u001b[1;32m    410\u001b[0m \u001b[38;5;250m\u001b[39m\u001b[38;5;124;03m\"\"\"\u001b[39;00m\n\u001b[1;32m    411\u001b[0m \u001b[38;5;124;03mFetch the experiment.\u001b[39;00m\n\u001b[1;32m    412\u001b[0m \u001b[38;5;124;03mNote: This API will search for active as well as deleted experiments.\u001b[39;00m\n\u001b[0;32m   (...)\u001b[0m\n\u001b[1;32m    418\u001b[0m \u001b[38;5;124;03m    A single Experiment object if it exists, otherwise raises an Exception.\u001b[39;00m\n\u001b[1;32m    419\u001b[0m \u001b[38;5;124;03m\"\"\"\u001b[39;00m\n\u001b[1;32m    420\u001b[0m experiment_id \u001b[38;5;241m=\u001b[39m FileStore\u001b[38;5;241m.\u001b[39mDEFAULT_EXPERIMENT_ID \u001b[38;5;28;01mif\u001b[39;00m experiment_id \u001b[38;5;129;01mis\u001b[39;00m \u001b[38;5;28;01mNone\u001b[39;00m \u001b[38;5;28;01melse\u001b[39;00m experiment_id\n\u001b[0;32m--> 421\u001b[0m experiment \u001b[38;5;241m=\u001b[39m \u001b[38;5;28;43mself\u001b[39;49m\u001b[38;5;241;43m.\u001b[39;49m\u001b[43m_get_experiment\u001b[49m\u001b[43m(\u001b[49m\u001b[43mexperiment_id\u001b[49m\u001b[43m)\u001b[49m\n\u001b[1;32m    422\u001b[0m \u001b[38;5;28;01mif\u001b[39;00m experiment \u001b[38;5;129;01mis\u001b[39;00m \u001b[38;5;28;01mNone\u001b[39;00m:\n\u001b[1;32m    423\u001b[0m     \u001b[38;5;28;01mraise\u001b[39;00m MlflowException(\n\u001b[1;32m    424\u001b[0m         \u001b[38;5;124mf\u001b[39m\u001b[38;5;124m\"\u001b[39m\u001b[38;5;124mExperiment \u001b[39m\u001b[38;5;124m'\u001b[39m\u001b[38;5;132;01m{\u001b[39;00mexperiment_id\u001b[38;5;132;01m}\u001b[39;00m\u001b[38;5;124m'\u001b[39m\u001b[38;5;124m does not exist.\u001b[39m\u001b[38;5;124m\"\u001b[39m,\n\u001b[1;32m    425\u001b[0m         databricks_pb2\u001b[38;5;241m.\u001b[39mRESOURCE_DOES_NOT_EXIST,\n\u001b[1;32m    426\u001b[0m     )\n",
      "File \u001b[0;32m~/euler-nn/.venv/lib/python3.11/site-packages/mlflow/store/tracking/file_store.py:395\u001b[0m, in \u001b[0;36mFileStore._get_experiment\u001b[0;34m(self, experiment_id, view_type)\u001b[0m\n\u001b[1;32m    390\u001b[0m \u001b[38;5;28;01mif\u001b[39;00m experiment_dir \u001b[38;5;129;01mis\u001b[39;00m \u001b[38;5;28;01mNone\u001b[39;00m:\n\u001b[1;32m    391\u001b[0m     \u001b[38;5;28;01mraise\u001b[39;00m MlflowException(\n\u001b[1;32m    392\u001b[0m         \u001b[38;5;124mf\u001b[39m\u001b[38;5;124m\"\u001b[39m\u001b[38;5;124mCould not find experiment with ID \u001b[39m\u001b[38;5;132;01m{\u001b[39;00mexperiment_id\u001b[38;5;132;01m}\u001b[39;00m\u001b[38;5;124m\"\u001b[39m,\n\u001b[1;32m    393\u001b[0m         databricks_pb2\u001b[38;5;241m.\u001b[39mRESOURCE_DOES_NOT_EXIST,\n\u001b[1;32m    394\u001b[0m     )\n\u001b[0;32m--> 395\u001b[0m meta \u001b[38;5;241m=\u001b[39m \u001b[43mFileStore\u001b[49m\u001b[38;5;241;43m.\u001b[39;49m\u001b[43m_read_yaml\u001b[49m\u001b[43m(\u001b[49m\u001b[43mexperiment_dir\u001b[49m\u001b[43m,\u001b[49m\u001b[43m \u001b[49m\u001b[43mFileStore\u001b[49m\u001b[38;5;241;43m.\u001b[39;49m\u001b[43mMETA_DATA_FILE_NAME\u001b[49m\u001b[43m)\u001b[49m\n\u001b[1;32m    396\u001b[0m meta[\u001b[38;5;124m\"\u001b[39m\u001b[38;5;124mtags\u001b[39m\u001b[38;5;124m\"\u001b[39m] \u001b[38;5;241m=\u001b[39m \u001b[38;5;28mself\u001b[39m\u001b[38;5;241m.\u001b[39mget_all_experiment_tags(experiment_id)\n\u001b[1;32m    397\u001b[0m experiment \u001b[38;5;241m=\u001b[39m _read_persisted_experiment_dict(meta)\n",
      "File \u001b[0;32m~/euler-nn/.venv/lib/python3.11/site-packages/mlflow/store/tracking/file_store.py:1320\u001b[0m, in \u001b[0;36mFileStore._read_yaml\u001b[0;34m(root, file_name, retries)\u001b[0m\n\u001b[1;32m   1317\u001b[0m         time\u001b[38;5;241m.\u001b[39msleep(\u001b[38;5;241m0.1\u001b[39m \u001b[38;5;241m*\u001b[39m (\u001b[38;5;241m3\u001b[39m \u001b[38;5;241m-\u001b[39m attempts_remaining))\n\u001b[1;32m   1318\u001b[0m         \u001b[38;5;28;01mreturn\u001b[39;00m _read_helper(root, file_name, attempts_remaining \u001b[38;5;241m-\u001b[39m \u001b[38;5;241m1\u001b[39m)\n\u001b[0;32m-> 1320\u001b[0m \u001b[38;5;28;01mreturn\u001b[39;00m \u001b[43m_read_helper\u001b[49m\u001b[43m(\u001b[49m\u001b[43mroot\u001b[49m\u001b[43m,\u001b[49m\u001b[43m \u001b[49m\u001b[43mfile_name\u001b[49m\u001b[43m,\u001b[49m\u001b[43m \u001b[49m\u001b[43mattempts_remaining\u001b[49m\u001b[38;5;241;43m=\u001b[39;49m\u001b[43mretries\u001b[49m\u001b[43m)\u001b[49m\n",
      "File \u001b[0;32m~/euler-nn/.venv/lib/python3.11/site-packages/mlflow/store/tracking/file_store.py:1313\u001b[0m, in \u001b[0;36mFileStore._read_yaml.<locals>._read_helper\u001b[0;34m(root, file_name, attempts_remaining)\u001b[0m\n\u001b[1;32m   1312\u001b[0m \u001b[38;5;28;01mdef\u001b[39;00m \u001b[38;5;21m_read_helper\u001b[39m(root, file_name, attempts_remaining\u001b[38;5;241m=\u001b[39m\u001b[38;5;241m2\u001b[39m):\n\u001b[0;32m-> 1313\u001b[0m     result \u001b[38;5;241m=\u001b[39m \u001b[43mread_yaml\u001b[49m\u001b[43m(\u001b[49m\u001b[43mroot\u001b[49m\u001b[43m,\u001b[49m\u001b[43m \u001b[49m\u001b[43mfile_name\u001b[49m\u001b[43m)\u001b[49m\n\u001b[1;32m   1314\u001b[0m     \u001b[38;5;28;01mif\u001b[39;00m result \u001b[38;5;129;01mis\u001b[39;00m \u001b[38;5;129;01mnot\u001b[39;00m \u001b[38;5;28;01mNone\u001b[39;00m \u001b[38;5;129;01mor\u001b[39;00m attempts_remaining \u001b[38;5;241m==\u001b[39m \u001b[38;5;241m0\u001b[39m:\n\u001b[1;32m   1315\u001b[0m         \u001b[38;5;28;01mreturn\u001b[39;00m result\n",
      "File \u001b[0;32m~/euler-nn/.venv/lib/python3.11/site-packages/mlflow/utils/file_utils.py:310\u001b[0m, in \u001b[0;36mread_yaml\u001b[0;34m(root, file_name)\u001b[0m\n\u001b[1;32m    308\u001b[0m file_path \u001b[38;5;241m=\u001b[39m os\u001b[38;5;241m.\u001b[39mpath\u001b[38;5;241m.\u001b[39mjoin(root, file_name)\n\u001b[1;32m    309\u001b[0m \u001b[38;5;28;01mif\u001b[39;00m \u001b[38;5;129;01mnot\u001b[39;00m exists(file_path):\n\u001b[0;32m--> 310\u001b[0m     \u001b[38;5;28;01mraise\u001b[39;00m MissingConfigException(\u001b[38;5;124mf\u001b[39m\u001b[38;5;124m\"\u001b[39m\u001b[38;5;124mYaml file \u001b[39m\u001b[38;5;124m'\u001b[39m\u001b[38;5;132;01m{\u001b[39;00mfile_path\u001b[38;5;132;01m}\u001b[39;00m\u001b[38;5;124m'\u001b[39m\u001b[38;5;124m does not exist.\u001b[39m\u001b[38;5;124m\"\u001b[39m)\n\u001b[1;32m    311\u001b[0m \u001b[38;5;28;01mwith\u001b[39;00m codecs\u001b[38;5;241m.\u001b[39mopen(file_path, mode\u001b[38;5;241m=\u001b[39m\u001b[38;5;124m\"\u001b[39m\u001b[38;5;124mr\u001b[39m\u001b[38;5;124m\"\u001b[39m, encoding\u001b[38;5;241m=\u001b[39mENCODING) \u001b[38;5;28;01mas\u001b[39;00m yaml_file:\n\u001b[1;32m    312\u001b[0m     \u001b[38;5;28;01mreturn\u001b[39;00m yaml\u001b[38;5;241m.\u001b[39mload(yaml_file, Loader\u001b[38;5;241m=\u001b[39mYamlSafeLoader)\n",
      "\u001b[0;31mMissingConfigException\u001b[0m: Yaml file '/Users/henry/euler-nn/src/notebooks/nn-02/mlruns/0/meta.yaml' does not exist."
     ]
    }
   ],
   "source": [
    "classifier.train()\n",
    "\n",
    "batch_size = 16\n",
    "\n",
    "train_loader = DataLoader(train_set, batch_size=batch_size)\n",
    "valid_loader = DataLoader(valid_set, batch_size=batch_size)\n",
    "\n",
    "trainer = pl.Trainer(max_epochs=10,\n",
    "                     accelerator=\"cpu\")\n",
    "\n",
    "mlflow.pytorch.autolog()\n",
    "with mlflow.start_run() as run:\n",
    "    # mlflow.pytorch.log_model(classifier, \"model\")\n",
    "    mlflow.log_params({\n",
    "            \"batch_size\": batch_size,\n",
    "        })\n",
    "    trainer.fit(model=classifier,\n",
    "                train_dataloaders=train_loader,\n",
    "                val_dataloaders=valid_loader)\n"
   ]
  },
  {
   "cell_type": "code",
   "execution_count": null,
   "id": "79f8a168-b293-4148-915f-b6e2371ae5f7",
   "metadata": {},
   "outputs": [
    {
     "name": "stdout",
     "output_type": "stream",
     "text": [
      "tensor([ 4.9221, 40.7927], grad_fn=<ViewBackward0>)\n",
      "tensor([ 5.4680, 66.3731], grad_fn=<ViewBackward0>)\n",
      "tensor([-24.2232,  43.6193], grad_fn=<ViewBackward0>)\n",
      "tensor([-12.6428,  23.5535], grad_fn=<ViewBackward0>)\n"
     ]
    },
    {
     "data": {
      "image/png": "[encoded data removed]",
      "text/plain": [
       "<Figure size 800x800 with 4 Axes>"
      ]
     },
     "metadata": {},
     "output_type": "display_data"
    }
   ],
   "source": [
    "classifier.eval()\n",
    "left_state  = State(Density = 3.,\n",
    "                    Velocity = 0.,\n",
    "                    Pressure = 6.5)\n",
    "\n",
    "right_state = State(Density = 1.,\n",
    "                    Velocity = 0.,\n",
    "                    Pressure = 1.)\n",
    "# classifier.eval()\n",
    "# left_state  = State(Density = 1.,\n",
    "#                     Velocity = 0.,\n",
    "#                     Pressure = 1.0)\n",
    "\n",
    "# right_state = State(Density = 3.,\n",
    "#                     Velocity = 0.,\n",
    "#                     Pressure = 8.)\n",
    "\n",
    "q_l = euler.primitive_to_conservative(*left_state)\n",
    "q_r = euler.primitive_to_conservative(*right_state)\n",
    "states, speeds, reval, wave_types = euler.exact_riemann_solution(q_l, q_r, gamma=1.4)\n",
    "\n",
    "N = 256\n",
    "a = -2.0\n",
    "b = 2.0\n",
    "x = np.linspace(a, b, N)\n",
    "dx = (b - a)/N\n",
    "\n",
    "t = 0.5\n",
    "rho, u, P = euler.cons_to_prim(reval(x/t))\n",
    "classes = np.zeros(N)\n",
    "div = np.zeros(N)\n",
    "div[1:-2] = (u[2:-1] - u[0:-3])/(2 * dx)\n",
    "\n",
    "\n",
    "for i in range(offset, N-offset):\n",
    "    input = np.zeros((4,stencil))\n",
    "    input[0, :] = rho[(i-offset):(i + offset + 1)]\n",
    "    #input[0, :] -= np.mean(rho[(i-offset):(i + offset + 1)])\n",
    "    input[1, :] = u[(i-offset):(i + offset + 1)]\n",
    "    #input[1, :] -= np.mean(u[(i-offset):(i + offset + 1)])\n",
    "    input[2, :] = P[(i-offset):(i + offset + 1)]\n",
    "    #input[2, :] -= np.mean(P[(i-offset):(i + offset + 1)])\n",
    "    input[3, :] = div[(i-offset):(i + offset + 1)]\n",
    "    #input[3, :] -= np.mean(div[(i-offset):(i + offset + 1)])\n",
    "    input = input.flatten()\n",
    "    input = torch.tensor(input, dtype=torch.float32)\n",
    "    output = classifier(input)\n",
    "    classes[i] = output.argmax()\n",
    "    if classes[i] == 1:\n",
    "        print(output)\n",
    "\n",
    "fig, axs = plt.subplots(4,1, figsize=(8,8))\n",
    "axs[0].plot(x, rho, linestyle=\"--\")\n",
    "axs[1].plot(x, u, linestyle=\"--\")\n",
    "axs[2].plot(x, P, linestyle=\"--\")\n",
    "axs[3].plot(x, div, linestyle=\"--\")\n",
    "for i in range(0, N):\n",
    "    if (classes[i] == 1):\n",
    "        axs[0].plot(x[i], rho[i], marker= 'o', markerfacecolor=\"none\", markeredgecolor=\"red\")\n",
    "        axs[1].plot(x[i], u[i], marker= 'o', markerfacecolor=\"none\", markeredgecolor=\"red\")\n",
    "        axs[2].plot(x[i], P[i], marker= 'o', markerfacecolor=\"none\", markeredgecolor=\"red\")\n",
    "    else:\n",
    "        axs[0].plot(x[i], rho[i], marker='o', markerfacecolor=\"none\", markeredgecolor=\"blue\")\n",
    "        axs[1].plot(x[i], u[i], marker= 'o', markerfacecolor=\"none\", markeredgecolor=\"blue\")\n",
    "        axs[2].plot(x[i], P[i], marker= 'o', markerfacecolor=\"none\", markeredgecolor=\"blue\")\n",
    "plt.tight_layout()\n",
    "plt.show()"
   ]
  },
  {
   "cell_type": "code",
   "execution_count": null,
   "id": "e1b5bb3c-3fa3-4497-80b0-826a0f8a2a94",
   "metadata": {},
   "outputs": [],
   "source": [
    "torch.save(classifier.state_dict(), \"../../../models/nn-02/nn-02.pt\")"
   ]
  },
  {
   "cell_type": "code",
   "execution_count": null,
   "id": "9beb88af-ce77-404a-843b-7c56c168daef",
   "metadata": {},
   "outputs": [
    {
     "data": {
      "text/plain": [
       "RecursiveScriptModule(\n",
       "  original_name=Shock_Cell_Classifier\n",
       "  (fc1): RecursiveScriptModule(original_name=Linear)\n",
       "  (fc2): RecursiveScriptModule(original_name=Linear)\n",
       "  (dropout5): RecursiveScriptModule(original_name=Dropout)\n",
       "  (dropout2): RecursiveScriptModule(original_name=Dropout)\n",
       "  (loss_fn): RecursiveScriptModule(original_name=CrossEntropyLoss)\n",
       ")"
      ]
     },
     "execution_count": 14,
     "metadata": {},
     "output_type": "execute_result"
    }
   ],
   "source": [
    "classifier.to_torchscript(\"../../../models/nn-02/script-nn-02.pt\")"
   ]
  },
  {
   "cell_type": "code",
   "execution_count": null,
   "id": "1cca7bea-0707-440b-b5da-c8df08f5cd31",
   "metadata": {},
   "outputs": [
    {
     "data": {
      "text/plain": [
       "[<matplotlib.lines.Line2D at 0x38f685150>]"
      ]
     },
     "execution_count": 15,
     "metadata": {},
     "output_type": "execute_result"
    },
    {
     "data": {
      "image/png": "[encoded data removed]",
      "text/plain": [
       "<Figure size 640x480 with 1 Axes>"
      ]
     },
     "metadata": {},
     "output_type": "display_data"
    }
   ],
   "source": [
    "plt.plot(train_set[9][0][15:20], \"--o\")"
   ]
  },
  {
   "cell_type": "code",
   "execution_count": null,
   "id": "8db426fd-cbcf-44a7-9e23-36da68602d37",
   "metadata": {},
   "outputs": [
    {
     "data": {
      "text/plain": [
       "2.5"
      ]
     },
     "execution_count": 18,
     "metadata": {},
     "output_type": "execute_result"
    }
   ],
   "source": [
    "np.mean(np.array([1,2,3,4]))"
   ]
  },
  {
   "cell_type": "code",
   "execution_count": null,
   "id": "aed96e87-ec4b-4656-bb8a-bf7316824e93",
   "metadata": {},
   "outputs": [
    {
     "data": {
      "text/plain": [
       "2.5"
      ]
     },
     "execution_count": 19,
     "metadata": {},
     "output_type": "execute_result"
    }
   ],
   "source": [
    "(1 + 2 + 3 + 4 )/4"
   ]
  },
  {
   "cell_type": "code",
   "execution_count": null,
   "id": "ae344ba7-554d-4d1a-9fab-6e67bed4844a",
   "metadata": {},
   "outputs": [],
   "source": [
    "\n",
    "np.savetxt(\"./w-b/fc1w.txt\", classifier.state_dict()[\"fc1.weight\"].numpy())\n",
    "np.savetxt(\"./w-b/fc1b.txt\", classifier.state_dict()[\"fc1.bias\"].numpy())\n",
    "np.savetxt(\"./w-b/fc2w.txt\", classifier.state_dict()[\"fc2.weight\"].numpy())\n",
    "np.savetxt(\"./w-b/fc2b.txt\", classifier.state_dict()[\"fc2.bias\"].numpy())"
   ]
  },
  {
   "cell_type": "code",
   "execution_count": null,
   "id": "ccf4f34e-dfe3-4c75-9e09-6c2729faeafe",
   "metadata": {},
   "outputs": [
    {
     "data": {
      "text/plain": [
       "tensor([ 0.0253, -0.3653,  0.3094,  0.0466, -0.0676,  0.2963,  0.1487, -0.2058,\n",
       "         0.4083,  0.6296,  0.6966,  0.5421,  0.5538,  0.1809,  0.4263,  0.0853,\n",
       "         0.3458,  0.0388, -0.0291, -0.0470,  0.2616, -0.0684,  0.0030,  0.3426,\n",
       "         0.2544,  0.1549,  0.3189,  0.0103,  0.4042,  0.0848,  0.0222,  0.3176,\n",
       "         0.4667,  0.1579,  0.4868, -0.3020,  0.2698, -0.0138, -0.0524,  0.0821,\n",
       "         0.1919,  0.0553, -0.1648,  0.0852,  0.2699, -0.0663, -0.0655, -0.0908,\n",
       "        -0.0065, -0.1325,  0.6163, -0.1114,  0.3042, -0.0051,  0.4849,  0.2735,\n",
       "         0.0180, -0.1006,  0.2333, -0.2361,  0.3479, -0.0417, -0.1547, -0.2125,\n",
       "         0.0319,  0.5915,  0.4554, -0.2243, -0.4019, -0.4178,  0.3088,  0.2389,\n",
       "         0.3048, -0.2932, -0.4732,  0.0094, -0.3101, -0.3839,  0.0154, -0.2165,\n",
       "        -0.1975,  0.0763, -0.3393, -0.0691,  0.3110, -0.0701,  0.2376,  0.3713,\n",
       "        -0.2755, -0.2598, -0.4980, -0.1951,  0.3101,  0.1454,  0.4445, -0.1770,\n",
       "        -0.3994,  0.0757, -0.4900, -0.3264, -0.1536, -0.0601,  0.0064,  0.0526,\n",
       "         0.1024,  0.2139,  0.2453, -0.0215, -0.3645, -0.0767, -0.4973, -0.3449,\n",
       "         0.1211,  0.3542,  0.3810,  0.1490, -0.4256, -0.0774,  0.1577,  0.1661,\n",
       "         0.1511,  0.1838, -0.2403,  0.1135, -0.4036,  0.0435, -0.0746,  0.0693,\n",
       "        -0.1092,  0.1292,  0.2301, -0.0390,  0.2559, -0.2527, -0.0077, -0.2512,\n",
       "        -0.1601, -0.4643, -0.1090,  0.3377,  0.0717, -0.2259,  0.0582, -0.2413,\n",
       "         0.2657,  0.2046, -0.2690,  0.1647,  0.0795, -0.0639,  0.0099,  0.5616,\n",
       "        -0.2580, -0.1563, -0.0170, -0.1355, -0.4546, -0.0926, -0.2003, -0.3579,\n",
       "         0.2615,  0.2908, -0.3103, -0.2019, -0.1979, -0.0828,  0.2429,  0.2489,\n",
       "        -0.0670, -0.3150,  0.1145, -0.0163,  0.1431,  0.2066, -0.3046,  0.4536,\n",
       "         0.1922, -0.4181, -0.4702, -0.0848, -0.2303, -0.4016, -0.1072, -0.3004,\n",
       "        -0.3299, -0.2088, -0.0947, -0.2037, -0.1060,  0.5147, -0.2574,  0.1533,\n",
       "         0.2892, -0.0033, -0.1267, -0.2099,  0.3585,  0.2058,  0.1202, -0.1393,\n",
       "        -0.0115,  0.0633, -0.1214,  0.0075, -0.0928,  0.0858, -0.2141,  0.1949,\n",
       "         0.3469,  0.3459, -0.1785, -0.4064, -0.2816, -0.2825, -0.3925,  0.3044,\n",
       "        -0.1577,  0.0827, -0.0468,  0.3551,  0.1076, -0.2779,  0.1288, -0.1714,\n",
       "        -0.0094,  0.3306,  0.2567, -0.0833,  0.0884, -0.5905,  0.1332, -0.1274,\n",
       "         0.1013, -0.0672,  0.1243,  0.2386,  0.1767, -0.5296, -0.5789, -0.0836,\n",
       "        -0.3671, -0.2722,  0.0242,  0.0400, -0.2401, -0.3149, -0.1379,  0.3738,\n",
       "        -0.1068,  0.1405, -0.3640,  0.0123, -0.3795, -0.1811, -0.0381,  0.0521,\n",
       "         0.0078,  0.3291, -0.1258,  0.3459,  0.0902, -0.0874, -0.1585,  0.0575,\n",
       "        -0.1549,  0.0095,  0.2091,  0.4031, -0.3568, -0.2527,  0.0539,  0.2766,\n",
       "         0.3648,  0.0332, -0.4782,  0.0504, -0.2952, -0.0456, -0.4015, -0.0274,\n",
       "        -0.2456, -0.2714,  0.1574, -0.1684,  0.4432,  0.1083,  0.3070, -0.1094,\n",
       "        -0.1654, -0.2291, -0.3270, -0.1896, -0.0324,  0.4655,  0.1553,  0.0636,\n",
       "        -0.4270, -0.2358,  0.0973,  0.0882, -0.2082, -0.1250,  0.0606, -0.1557,\n",
       "         0.2703,  0.1819,  0.0969,  0.0113, -0.2739, -0.0681, -0.1759,  0.1188,\n",
       "         0.2851,  0.1183, -0.1001,  0.0711, -0.3954, -0.3331, -0.2524, -0.2414,\n",
       "        -0.0885,  0.3557,  0.1981, -0.1202,  0.1608, -0.4879, -0.0996, -0.2546,\n",
       "        -0.1017, -0.1209,  0.1770,  0.0633,  0.3018,  0.5999,  0.3293,  0.1239,\n",
       "         0.1600, -0.0797, -0.1067,  0.1153, -0.4532, -0.2636, -0.3749,  0.1778,\n",
       "        -0.1731,  0.2184,  0.0105, -0.1258, -0.2547,  0.0348, -0.2556,  0.2408,\n",
       "        -0.0426,  0.1444, -0.4952,  0.1496,  0.2249,  0.0159,  0.1557, -0.0811,\n",
       "        -0.2473, -0.2111, -0.1197,  0.3587,  0.0736,  0.0873,  0.1308,  0.1893,\n",
       "        -0.1680, -0.2525, -0.2820, -0.2530, -0.0523,  0.0481,  0.6483, -0.0662,\n",
       "        -0.0924, -0.3986,  0.0178,  0.3537,  0.0642, -0.0455,  0.0305, -0.1204,\n",
       "         0.0664,  0.3321, -0.0422, -0.0708,  0.0794, -0.2696,  0.0352,  0.3752,\n",
       "        -0.1977, -0.0628,  0.0322, -0.1000,  0.2649, -0.3969, -0.1700, -0.2194])"
      ]
     },
     "execution_count": 26,
     "metadata": {},
     "output_type": "execute_result"
    }
   ],
   "source": [
    "classifier.state_dict()[\"fc1.weight\"].flatten()"
   ]
  },
  {
   "cell_type": "code",
   "execution_count": null,
   "id": "0994aff9",
   "metadata": {},
   "outputs": [],
   "source": []
  }
 ],
 "metadata": {
  "kernelspec": {
   "display_name": "Python 3 (ipykernel)",
   "language": "python",
   "name": "python3"
  },
  "language_info": {
   "codemirror_mode": {
    "name": "ipython",
    "version": 3
   },
   "file_extension": ".py",
   "mimetype": "text/x-python",
   "name": "python",
   "nbconvert_exporter": "python",
   "pygments_lexer": "ipython3",
   "version": "3.11.7"
  }
 },
 "nbformat": 4,
 "nbformat_minor": 5
}
