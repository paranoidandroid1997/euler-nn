{
 "cells": [
  {
   "cell_type": "code",
   "execution_count": 1,
   "id": "0bf01c8c-2fb5-4273-911f-390b55da2f7c",
   "metadata": {},
   "outputs": [
    {
     "name": "stdout",
     "output_type": "stream",
     "text": [
      "*** Warning: JSAnimation not found\n",
      "*** Warning: JSAnimation not found\n"
     ]
    }
   ],
   "source": [
    "import numpy as np\n",
    "import matplotlib.pyplot as plt\n",
    "from exact_solvers import euler\n",
    "import random\n",
    "import torch\n",
    "from torch.utils.data import Dataset, DataLoader\n",
    "from torch import optim, nn, utils, Tensor\n",
    "import torch.nn.functional as F\n",
    "import lightning.pytorch as pl\n",
    "import mlflow.pytorch\n",
    "from sklearn.preprocessing import StandardScaler"
   ]
  },
  {
   "cell_type": "code",
   "execution_count": 2,
   "id": "1462e815-9d03-4386-8ebd-d6ea5cb8e95a",
   "metadata": {},
   "outputs": [
    {
     "name": "stdout",
     "output_type": "stream",
     "text": [
      "512\n"
     ]
    }
   ],
   "source": [
    "State = euler.Primitive_State\n",
    "scaler = StandardScaler()\n",
    "\n",
    "stencil = 5\n",
    "offset = stencil//2\n",
    "\n",
    "inputs = []\n",
    "labels = []\n",
    "\n",
    "gammas = np.linspace(1.1, 2.0, 10)\n",
    "times = np.linspace(1e-10, 1.0, 100)\n",
    "PLs = np.linspace(3, 13, 5)\n",
    "# PRs = np.linspace(3, 13, 5)\n",
    "PRs = [0.1]\n",
    "# grid_sizes = np.power(2, np.arange(6, 12))\n",
    "grid_sizes = [512]\n",
    "\n",
    "for gs in grid_sizes:\n",
    "    print(gs)\n",
    "    N = gs\n",
    "    a = -2.0\n",
    "    b = 2.0\n",
    "\n",
    "    x = np.linspace(a, b, N)\n",
    "    dx = (b - a)/N\n",
    "    \n",
    "    div = np.zeros(N)\n",
    "    \n",
    "    for PL in PLs:\n",
    "        for PR in PRs:\n",
    "            left_state  = State(Density = 3.,\n",
    "                                Velocity = 0.,\n",
    "                                Pressure = PL)\n",
    "            right_state = State(Density = 1.,\n",
    "                                Velocity = 0.,\n",
    "                                Pressure = PR)\n",
    "            \n",
    "            q_l = euler.primitive_to_conservative(*left_state)\n",
    "            q_r = euler.primitive_to_conservative(*right_state)\n",
    "            \n",
    "            \n",
    "            for gamma in gammas:\n",
    "            \n",
    "                states, speeds, reval, wave_types = euler.exact_riemann_solution(q_l, q_r, gamma=gamma)    \n",
    "                \n",
    "                for t in times:\n",
    "                    rho, u, P = euler.cons_to_prim(reval(x/t))\n",
    "\n",
    "                    if (PL > PR):\n",
    "                        \n",
    "                        raref_l, raref_r = speeds[0][0] * t, speeds[0][1] * t\n",
    "                        contact = speeds[1] * t\n",
    "                        shock = speeds[2] * t\n",
    "                    elif (PR > PL):\n",
    "                        raref_l, raref_r = speeds[2][0] * t, speeds[2][1] * t\n",
    "                        contact = speeds[1] * t\n",
    "                        shock = speeds[0] * t\n",
    "                    else:\n",
    "                        continue\n",
    "                \n",
    "                    div[1:-2] = (u[2:-1] - u[0:-3])/(2 * dx)\n",
    "                    rho, u, P, div = StandardScaler().fit_transform(rho.reshape(-1,1)).flatten(), StandardScaler().fit_transform(u.reshape(-1,1)).flatten(), StandardScaler().fit_transform(P.reshape(-1,1)).flatten(),StandardScaler().fit_transform(div.reshape(-1,1)).flatten()\n",
    "                    \n",
    "                    #shock_loc = np.logical_and(x > (shock - eps),x < (shock + eps))\n",
    "                    for i in range(offset, N - offset):\n",
    "                        input = np.zeros((2,stencil))\n",
    "                        input[0, :] = rho[(i-offset):(i + offset + 1)]\n",
    "                        #input[0, :] -= np.mean(rho[(i-offset):(i + offset + 1)])\n",
    "                        # input[1, :] = u[(i-offset):(i + offset + 1)]\n",
    "                        #input[1, :] -= np.mean(u[(i-offset):(i + offset + 1)])\n",
    "                        input[1, :] = P[(i-offset):(i + offset + 1)]\n",
    "                        #input[2, :] -= np.mean(P[(i-offset):(i + offset + 1)])\n",
    "                        # input[3, :] = div[(i-offset):(i + offset + 1)]\n",
    "                        #input[3, :] -= np.mean(div[(i-offset):(i + offset + 1)])\n",
    "                        inputs.append(input)\n",
    "                        #if np.any(x[(i-offset):(i + offset + 1)] >= shock) and np.any(x[(i-offset):(i + offset + 1)] <= shock):\n",
    "                        if np.any(x[(i-offset):(i + offset + 1)] > shock) and np.any(x[(i-offset):(i + offset + 1)] < shock):\n",
    "                            labels.append(1)\n",
    "                        else:\n",
    "                            labels.append(0)\n",
    "            \n",
    "\n",
    "# random.seed(42)\n",
    "# indices_0 = [i for i, label in enumerate(labels) if label == 0]\n",
    "# indices_1 = [i for i, label in enumerate(labels) if label == 1]\n",
    "\n",
    "# # Randomly select a subset of 0s with the same size as the number of 1s\n",
    "# subset_indices_0 = random.sample(indices_0, len(indices_1))\n",
    "\n",
    "# # Create new balanced lists\n",
    "# balanced_inputs = [inputs[i] for i in subset_indices_0 + indices_1]\n",
    "# balanced_labels = [labels[i] for i in subset_indices_0 + indices_1]"
   ]
  },
  {
   "cell_type": "code",
   "execution_count": 3,
   "id": "9a7a71f9-3d2c-4fac-93a5-544075e63ce0",
   "metadata": {},
   "outputs": [
    {
     "name": "stdout",
     "output_type": "stream",
     "text": [
      "512\n"
     ]
    }
   ],
   "source": [
    "\n",
    "gammas = np.linspace(1.1, 2.0, 10)\n",
    "times = np.linspace(1e-10, 1.0, 100)\n",
    "PRs = np.linspace(3, 13, 5)\n",
    "# PRs = np.linspace(3, 13, 5)\n",
    "PLs = [0.1]\n",
    "#grid_sizes = np.power(2, np.arange(6, 12))\n",
    "grid_sizes = [512]\n",
    "\n",
    "for gs in grid_sizes:\n",
    "    print(gs)\n",
    "    N = gs\n",
    "    a = -2.0\n",
    "    b = 2.0\n",
    "\n",
    "    x = np.linspace(a, b, N)\n",
    "    dx = (b - a)/N\n",
    "    \n",
    "    div = np.zeros(N)\n",
    "    \n",
    "    for PL in PLs:\n",
    "        for PR in PRs:\n",
    "            left_state  = State(Density = 1.,\n",
    "                                Velocity = 0.,\n",
    "                                Pressure = PL)\n",
    "            right_state = State(Density = 3.,\n",
    "                                Velocity = 0.,\n",
    "                                Pressure = PR)\n",
    "            \n",
    "            q_l = euler.primitive_to_conservative(*left_state)\n",
    "            q_r = euler.primitive_to_conservative(*right_state)\n",
    "            \n",
    "            \n",
    "            for gamma in gammas:\n",
    "            \n",
    "                states, speeds, reval, wave_types = euler.exact_riemann_solution(q_l, q_r, gamma=gamma)    \n",
    "                \n",
    "                for t in times:\n",
    "                    rho, u, P = euler.cons_to_prim(reval(x/t))\n",
    "\n",
    "                    if (PL > PR):\n",
    "                        \n",
    "                        raref_l, raref_r = speeds[0][0] * t, speeds[0][1] * t\n",
    "                        contact = speeds[1] * t\n",
    "                        shock = speeds[2] * t\n",
    "                    elif (PR > PL):\n",
    "                        raref_l, raref_r = speeds[2][0] * t, speeds[2][1] * t\n",
    "                        contact = speeds[1] * t\n",
    "                        shock = speeds[0] * t\n",
    "                    else:\n",
    "                        continue\n",
    "                \n",
    "                    div[1:-2] = (u[2:-1] - u[0:-3])/(2 * dx)\n",
    "                    rho, u, P, div = StandardScaler().fit_transform(rho.reshape(-1,1)).flatten(), StandardScaler().fit_transform(u.reshape(-1,1)).flatten(), StandardScaler().fit_transform(P.reshape(-1,1)).flatten(),StandardScaler().fit_transform(div.reshape(-1,1)).flatten()\n",
    "\n",
    "                    \n",
    "                    #shock_loc = np.logical_and(x > (shock - eps),x < (shock + eps))\n",
    "                    for i in range(offset, N - offset):\n",
    "                        input = np.zeros((2,stencil))\n",
    "                        input[0, :] = rho[(i-offset):(i + offset + 1)]\n",
    "                        #input[0, :] -= np.mean(rho[(i-offset):(i + offset + 1)])\n",
    "                        # input[1, :] = u[(i-offset):(i + offset + 1)]\n",
    "                        #input[1, :] -= np.mean(u[(i-offset):(i + offset + 1)])\n",
    "                        input[1, :] = P[(i-offset):(i + offset + 1)]\n",
    "                        #input[2, :] -= np.mean(P[(i-offset):(i + offset + 1)])\n",
    "                        # input[3, :] = div[(i-offset):(i + offset + 1)]\n",
    "                        #input[3, :] -= np.mean(div[(i-offset):(i + offset + 1)])\n",
    "                        inputs.append(input)\n",
    "                        #if np.any(x[(i-offset):(i + offset + 1)] >= shock) and np.any(x[(i-offset):(i + offset + 1)] <= shock):\n",
    "                        if np.any(x[(i-offset):(i + offset + 1)] > shock) and np.any(x[(i-offset):(i + offset + 1)] < shock):\n",
    "                            labels.append(1)\n",
    "                        else:\n",
    "                            labels.append(0)\n",
    "            \n",
    "\n",
    "random.seed(42)\n",
    "indices_0 = [i for i, label in enumerate(labels) if label == 0]\n",
    "indices_1 = [i for i, label in enumerate(labels) if label == 1]\n",
    "\n",
    "# Randomly select a subset of 0s with the same size as the number of 1s\n",
    "subset_indices_0 = random.sample(indices_0, len(indices_1))\n",
    "\n",
    "# Create new balanced lists\n",
    "balanced_inputs = [inputs[i] for i in subset_indices_0 + indices_1]\n",
    "balanced_labels = [labels[i] for i in subset_indices_0 + indices_1]"
   ]
  },
  {
   "cell_type": "code",
   "execution_count": 4,
   "id": "efbe1651-9f31-47b7-a5ed-3e3c721311be",
   "metadata": {},
   "outputs": [],
   "source": [
    "train_data = []\n",
    "for i, l in zip(balanced_inputs, balanced_labels):\n",
    "    train_data.append([torch.tensor(i.flatten(), dtype=torch.float32), torch.tensor(l, dtype=torch.float32)])\n",
    "    \n",
    "class CustomDataset(Dataset):\n",
    "    def __init__(self, data):\n",
    "        self.data = data\n",
    "\n",
    "    def __len__(self):\n",
    "        return len(self.data)\n",
    "\n",
    "    def __getitem__(self, index):\n",
    "        sample = self.data[index]\n",
    "\n",
    "        # Assuming the first element is the input tensor and the second element is the label tensor\n",
    "        input_tensor = torch.Tensor(sample[0])\n",
    "        label_tensor = torch.Tensor(sample[1])\n",
    "\n",
    "        return input_tensor, label_tensor\n",
    "        \n",
    "dataset = CustomDataset(train_data)\n",
    "seed = torch.Generator().manual_seed(42)\n",
    "train_set, valid_set = torch.utils.data.random_split(dataset, [0.8, 0.2], generator=seed)"
   ]
  },
  {
   "cell_type": "code",
   "execution_count": 5,
   "id": "97932eea-1045-4005-a316-07fbb81e175f",
   "metadata": {},
   "outputs": [
    {
     "name": "stdout",
     "output_type": "stream",
     "text": [
      "61716\n",
      "15428\n"
     ]
    }
   ],
   "source": [
    "torch.save(train_set, \"../../../data/ds-2/train_set.pt\")\n",
    "torch.save(valid_set, \"../../../data/ds-2/valid_set.pt\")\n",
    "print (len(train_set))\n",
    "print (len(valid_set))"
   ]
  },
  {
   "cell_type": "code",
   "execution_count": 6,
   "id": "69b14353-fe5e-47aa-8efa-0f4cc75c8bf3",
   "metadata": {},
   "outputs": [],
   "source": [
    "class Shock_Cell_Classifier(pl.LightningModule):\n",
    "    def __init__(self, input_dim, lr = 1e-4, wd = 1.0e-5):\n",
    "        super().__init__()\n",
    "        self.save_hyperparameters()\n",
    "\n",
    "        # self.fc1 = nn.Linear(self.hparams.input_dim, 16)\n",
    "        # self.fc2 = nn.Linear(16, 2)\n",
    "        \n",
    "        self.fc1 = nn.Linear(self.hparams.input_dim, self.hparams.input_dim)\n",
    "        self.fc2 = nn.Linear(self.hparams.input_dim, 2)\n",
    "        # self.fc3 = nn.Linear(8, 2)\n",
    "\n",
    "        self.dropout5 = nn.Dropout(0.50)\n",
    "        self.dropout2 = nn.Dropout(0.20)\n",
    "\n",
    "        nn.init.xavier_uniform_(self.fc1.weight)\n",
    "        nn.init.xavier_uniform_(self.fc2.weight)\n",
    "        # nn.init.xavier_uniform_(self.fc3.weight)\n",
    "        \n",
    "        #Initialize bias terms to zero\n",
    "        nn.init.constant_(self.fc1.bias, 0)\n",
    "        nn.init.constant_(self.fc2.bias, 0)\n",
    "        # nn.init.constant_(self.fc3.bias, 0)\n",
    "\n",
    "        self.loss_fn = nn.CrossEntropyLoss()\n",
    "\n",
    "        # self.logger.log_hyperparams()\n",
    "    def forward(self, x):\n",
    "        # x = self.dropout2(x)\n",
    "        x = self.fc1(x)\n",
    "        x = F.leaky_relu(x)\n",
    "        x = self.dropout5(x)\n",
    "        x = self.fc2(x)\n",
    "        # x = F.leaky_relu(x)\n",
    "        # x = self.fc3(x)\n",
    "\n",
    "        return x\n",
    "\n",
    "    def training_step(self, batch, batch_idx):\n",
    "        # training_step defines the train loop.\n",
    "        # it is independent of forward\n",
    "        inputs, labels = batch\n",
    "        \n",
    "        output = self.forward(inputs)\n",
    "\n",
    "        \n",
    "        loss = self.loss_fn(output, labels.long())\n",
    "        \n",
    "        self.log(\"train_loss\", loss)\n",
    "        return loss\n",
    "\n",
    "    def validation_step(self, batch, batch_idx):\n",
    "        # this is the validation loop\n",
    "        inputs, labels = batch\n",
    "        \n",
    "        output = self.forward(inputs)\n",
    "        \n",
    "        val_loss = self.loss_fn(output, labels.long())\n",
    "        self.log(\"val_loss\", val_loss)\n",
    "\n",
    "    def configure_optimizers(self):\n",
    "        optimizer = optim.Adam(self.parameters(), lr=self.hparams.lr, weight_decay=self.hparams.wd)\n",
    "        return optimizer\n",
    "\n",
    "\n",
    "# init the classifier\n",
    "classifier = Shock_Cell_Classifier(stencil*2)"
   ]
  },
  {
   "cell_type": "code",
   "execution_count": 10,
   "id": "7357d819-1ae0-4bbc-becb-a3eda54bb863",
   "metadata": {},
   "outputs": [
    {
     "name": "stderr",
     "output_type": "stream",
     "text": [
      "INFO:pytorch_lightning.utilities.rank_zero:GPU available: True (mps), used: False\n",
      "INFO:pytorch_lightning.utilities.rank_zero:TPU available: False, using: 0 TPU cores\n",
      "INFO:pytorch_lightning.utilities.rank_zero:IPU available: False, using: 0 IPUs\n",
      "INFO:pytorch_lightning.utilities.rank_zero:HPU available: False, using: 0 HPUs\n",
      "/Users/henry/euler-nn/.venv/lib/python3.11/site-packages/lightning/pytorch/trainer/setup.py:187: GPU available but not used. You can set it by doing `Trainer(accelerator='gpu')`.\n",
      "2024/04/22 20:03:33 WARNING mlflow.utils.autologging_utils: You are using an unsupported version of pytorch. If you encounter errors during autologging, try upgrading / downgrading pytorch to a supported version, or try upgrading MLflow.\n",
      "2024/04/22 20:03:33 WARNING mlflow.utils.autologging_utils: MLflow autologging encountered a warning: \"/Users/henry/euler-nn/.venv/lib/python3.11/site-packages/mlflow/pytorch/_lightning_autolog.py:463: UserWarning: Autologging is known to be compatible with pytorch-lightning versions between 1.4.9 and 2.2.0.post0 and may not succeed with packages outside this range.\"\n",
      "\n",
      "  | Name     | Type             | Params\n",
      "----------------------------------------------\n",
      "0 | fc1      | Linear           | 110   \n",
      "1 | fc2      | Linear           | 22    \n",
      "2 | dropout5 | Dropout          | 0     \n",
      "3 | dropout2 | Dropout          | 0     \n",
      "4 | loss_fn  | CrossEntropyLoss | 0     \n",
      "----------------------------------------------\n",
      "132       Trainable params\n",
      "0         Non-trainable params\n",
      "132       Total params\n",
      "0.001     Total estimated model params size (MB)\n"
     ]
    },
    {
     "data": {
      "application/vnd.jupyter.widget-view+json": {
       "model_id": "5a411ae394384ccaa7bfe1bf2fe2607f",
       "version_major": 2,
       "version_minor": 0
      },
      "text/plain": [
       "Sanity Checking: |          | 0/? [00:00<?, ?it/s]"
      ]
     },
     "metadata": {},
     "output_type": "display_data"
    },
    {
     "data": {
      "application/vnd.jupyter.widget-view+json": {
       "model_id": "0f5c2a11ea004b2bbacf5aca046d1210",
       "version_major": 2,
       "version_minor": 0
      },
      "text/plain": [
       "Training: |          | 0/? [00:00<?, ?it/s]"
      ]
     },
     "metadata": {},
     "output_type": "display_data"
    },
    {
     "data": {
      "application/vnd.jupyter.widget-view+json": {
       "model_id": "72caf7e37c9b4b62af8ca18aba51dc84",
       "version_major": 2,
       "version_minor": 0
      },
      "text/plain": [
       "Validation: |          | 0/? [00:00<?, ?it/s]"
      ]
     },
     "metadata": {},
     "output_type": "display_data"
    },
    {
     "data": {
      "application/vnd.jupyter.widget-view+json": {
       "model_id": "66f0ab9bd653427a935cc0d76c2af861",
       "version_major": 2,
       "version_minor": 0
      },
      "text/plain": [
       "Validation: |          | 0/? [00:00<?, ?it/s]"
      ]
     },
     "metadata": {},
     "output_type": "display_data"
    },
    {
     "data": {
      "application/vnd.jupyter.widget-view+json": {
       "model_id": "65a91eb22c8b41cd8b2f77263a71ce4c",
       "version_major": 2,
       "version_minor": 0
      },
      "text/plain": [
       "Validation: |          | 0/? [00:00<?, ?it/s]"
      ]
     },
     "metadata": {},
     "output_type": "display_data"
    },
    {
     "data": {
      "application/vnd.jupyter.widget-view+json": {
       "model_id": "cba4cddeb51d4c7dbfe55f89e0d3de9f",
       "version_major": 2,
       "version_minor": 0
      },
      "text/plain": [
       "Validation: |          | 0/? [00:00<?, ?it/s]"
      ]
     },
     "metadata": {},
     "output_type": "display_data"
    },
    {
     "data": {
      "application/vnd.jupyter.widget-view+json": {
       "model_id": "61c9251464874c55b2613834500c66f5",
       "version_major": 2,
       "version_minor": 0
      },
      "text/plain": [
       "Validation: |          | 0/? [00:00<?, ?it/s]"
      ]
     },
     "metadata": {},
     "output_type": "display_data"
    },
    {
     "data": {
      "application/vnd.jupyter.widget-view+json": {
       "model_id": "54e87095cb684ca8a988f0a1cc3827bc",
       "version_major": 2,
       "version_minor": 0
      },
      "text/plain": [
       "Validation: |          | 0/? [00:00<?, ?it/s]"
      ]
     },
     "metadata": {},
     "output_type": "display_data"
    },
    {
     "data": {
      "application/vnd.jupyter.widget-view+json": {
       "model_id": "b78f62391e2f46ea8da4fe4c62bff9f3",
       "version_major": 2,
       "version_minor": 0
      },
      "text/plain": [
       "Validation: |          | 0/? [00:00<?, ?it/s]"
      ]
     },
     "metadata": {},
     "output_type": "display_data"
    },
    {
     "data": {
      "application/vnd.jupyter.widget-view+json": {
       "model_id": "5b1b98cceb0d408d899d6d7b922a6d5a",
       "version_major": 2,
       "version_minor": 0
      },
      "text/plain": [
       "Validation: |          | 0/? [00:00<?, ?it/s]"
      ]
     },
     "metadata": {},
     "output_type": "display_data"
    },
    {
     "data": {
      "application/vnd.jupyter.widget-view+json": {
       "model_id": "048faf9cfaed40a3bda199895bf89a33",
       "version_major": 2,
       "version_minor": 0
      },
      "text/plain": [
       "Validation: |          | 0/? [00:00<?, ?it/s]"
      ]
     },
     "metadata": {},
     "output_type": "display_data"
    },
    {
     "data": {
      "application/vnd.jupyter.widget-view+json": {
       "model_id": "e98ca1db9b7641a785d3169669ec39ad",
       "version_major": 2,
       "version_minor": 0
      },
      "text/plain": [
       "Validation: |          | 0/? [00:00<?, ?it/s]"
      ]
     },
     "metadata": {},
     "output_type": "display_data"
    },
    {
     "data": {
      "application/vnd.jupyter.widget-view+json": {
       "model_id": "ed8c8949e1b94fe7adf04cf715918c0e",
       "version_major": 2,
       "version_minor": 0
      },
      "text/plain": [
       "Validation: |          | 0/? [00:00<?, ?it/s]"
      ]
     },
     "metadata": {},
     "output_type": "display_data"
    },
    {
     "data": {
      "application/vnd.jupyter.widget-view+json": {
       "model_id": "71398306349e4b4a87da6de15ed50c16",
       "version_major": 2,
       "version_minor": 0
      },
      "text/plain": [
       "Validation: |          | 0/? [00:00<?, ?it/s]"
      ]
     },
     "metadata": {},
     "output_type": "display_data"
    },
    {
     "data": {
      "application/vnd.jupyter.widget-view+json": {
       "model_id": "86024226d52b44908d8da7ffe95940ca",
       "version_major": 2,
       "version_minor": 0
      },
      "text/plain": [
       "Validation: |          | 0/? [00:00<?, ?it/s]"
      ]
     },
     "metadata": {},
     "output_type": "display_data"
    },
    {
     "data": {
      "application/vnd.jupyter.widget-view+json": {
       "model_id": "7265ef9d8c6f4dc08031111aaa6c3101",
       "version_major": 2,
       "version_minor": 0
      },
      "text/plain": [
       "Validation: |          | 0/? [00:00<?, ?it/s]"
      ]
     },
     "metadata": {},
     "output_type": "display_data"
    },
    {
     "data": {
      "application/vnd.jupyter.widget-view+json": {
       "model_id": "a5b21168fec448fdbb8e16ed33581cec",
       "version_major": 2,
       "version_minor": 0
      },
      "text/plain": [
       "Validation: |          | 0/? [00:00<?, ?it/s]"
      ]
     },
     "metadata": {},
     "output_type": "display_data"
    },
    {
     "name": "stderr",
     "output_type": "stream",
     "text": [
      "INFO:pytorch_lightning.utilities.rank_zero:`Trainer.fit` stopped: `max_epochs=15` reached.\n",
      "2024/04/22 20:05:58 WARNING mlflow.utils.autologging_utils: MLflow autologging encountered a warning: \"/Users/henry/euler-nn/.venv/lib/python3.11/site-packages/_distutils_hack/__init__.py:18: UserWarning: Distutils was imported before Setuptools, but importing Setuptools also replaces the `distutils` module in `sys.modules`. This may lead to undesirable behaviors or errors. To avoid these issues, avoid using distutils directly, ensure that setuptools is installed in the traditional way (e.g. not an editable install), and/or make sure that setuptools is always imported before distutils.\"\n",
      "2024/04/22 20:05:58 WARNING mlflow.utils.autologging_utils: MLflow autologging encountered a warning: \"/Users/henry/euler-nn/.venv/lib/python3.11/site-packages/_distutils_hack/__init__.py:33: UserWarning: Setuptools is replacing distutils.\"\n"
     ]
    }
   ],
   "source": [
    "classifier.train()\n",
    "\n",
    "batch_size = 16\n",
    "\n",
    "train_loader = DataLoader(train_set, batch_size=batch_size)\n",
    "valid_loader = DataLoader(valid_set, batch_size=batch_size)\n",
    "\n",
    "trainer = pl.Trainer(max_epochs=15,\n",
    "                     accelerator=\"cpu\")\n",
    "\n",
    "mlflow.pytorch.autolog()\n",
    "with mlflow.start_run() as run:\n",
    "    # mlflow.pytorch.log_model(classifier, \"model\")\n",
    "    mlflow.log_params({\n",
    "            \"batch_size\": batch_size,\n",
    "        })\n",
    "    trainer.fit(model=classifier,\n",
    "                train_dataloaders=train_loader,\n",
    "                val_dataloaders=valid_loader)\n"
   ]
  },
  {
   "cell_type": "code",
   "execution_count": 13,
   "id": "79f8a168-b293-4148-915f-b6e2371ae5f7",
   "metadata": {},
   "outputs": [
    {
     "name": "stdout",
     "output_type": "stream",
     "text": [
      "tensor([-1.3089,  2.1727], grad_fn=<ViewBackward0>)\n",
      "tensor([-1.9823,  2.9058], grad_fn=<ViewBackward0>)\n",
      "tensor([-2.0739,  3.1194], grad_fn=<ViewBackward0>)\n",
      "tensor([-1.2702,  1.6670], grad_fn=<ViewBackward0>)\n"
     ]
    },
    {
     "data": {
      "image/png": "[encoded data removed]",
      "text/plain": [
       "<Figure size 800x800 with 4 Axes>"
      ]
     },
     "metadata": {},
     "output_type": "display_data"
    }
   ],
   "source": [
    "classifier.eval()\n",
    "\n",
    "State = euler.Primitive_State\n",
    "left_state  = State(Density = 3.,\n",
    "                    Velocity = 0.,\n",
    "                    Pressure = 6.5)\n",
    "\n",
    "right_state = State(Density = 1.,\n",
    "                    Velocity = 0.,\n",
    "                    Pressure = 1.)\n",
    "# classifier.eval()\n",
    "# left_state  = State(Density = 1.,\n",
    "#                     Velocity = 0.,\n",
    "#                     Pressure = 1.0)\n",
    "\n",
    "# right_state = State(Density = 3.,\n",
    "#                     Velocity = 0.,\n",
    "#                     Pressure = 8.)\n",
    "\n",
    "q_l = euler.primitive_to_conservative(*left_state)\n",
    "q_r = euler.primitive_to_conservative(*right_state)\n",
    "states, speeds, reval, wave_types = euler.exact_riemann_solution(q_l, q_r, gamma=1.4)\n",
    "\n",
    "N = 256\n",
    "a = -2.0\n",
    "b = 2.0\n",
    "x = np.linspace(a, b, N)\n",
    "dx = (b - a)/N\n",
    "\n",
    "t = 0.5\n",
    "rho, u, P = euler.cons_to_prim(reval(x/t))\n",
    "classes = np.zeros(N)\n",
    "div = np.zeros(N)\n",
    "div[1:-2] = (u[2:-1] - u[0:-3])/(2 * dx)\n",
    "rho, u, P, div = StandardScaler().fit_transform(rho.reshape(-1,1)).flatten(), StandardScaler().fit_transform(u.reshape(-1,1)).flatten(), StandardScaler().fit_transform(P.reshape(-1,1)).flatten(),StandardScaler().fit_transform(div.reshape(-1,1)).flatten()\n",
    "\n",
    "\n",
    "for i in range(offset, N-offset):\n",
    "    input = np.zeros((2,stencil))\n",
    "    input[0, :] = rho[(i-offset):(i + offset + 1)]\n",
    "    #input[0, :] -= np.mean(rho[(i-offset):(i + offset + 1)])\n",
    "    # input[1, :] = u[(i-offset):(i + offset + 1)]\n",
    "    #input[1, :] -= np.mean(u[(i-offset):(i + offset + 1)])\n",
    "    input[1, :] = P[(i-offset):(i + offset + 1)]\n",
    "    #input[2, :] -= np.mean(P[(i-offset):(i + offset + 1)])\n",
    "    # input[3, :] = div[(i-offset):(i + offset + 1)]\n",
    "    #input[3, :] -= np.mean(div[(i-offset):(i + offset + 1)])\n",
    "    input = input.flatten()\n",
    "    input = torch.tensor(input, dtype=torch.float32)\n",
    "    output = classifier(input)\n",
    "    classes[i] = output.argmax()\n",
    "    if classes[i] == 1:\n",
    "        print(output)\n",
    "\n",
    "fig, axs = plt.subplots(4,1, figsize=(8,8))\n",
    "axs[0].plot(x, rho, linestyle=\"--\")\n",
    "axs[1].plot(x, u, linestyle=\"--\")\n",
    "axs[2].plot(x, P, linestyle=\"--\")\n",
    "axs[3].plot(x, div, linestyle=\"--\")\n",
    "for i in range(0, N):\n",
    "    if (classes[i] == 1):\n",
    "        axs[0].plot(x[i], rho[i], marker= 'o', markerfacecolor=\"none\", markeredgecolor=\"red\")\n",
    "        axs[1].plot(x[i], u[i], marker= 'o', markerfacecolor=\"none\", markeredgecolor=\"red\")\n",
    "        axs[2].plot(x[i], P[i], marker= 'o', markerfacecolor=\"none\", markeredgecolor=\"red\")\n",
    "    else:\n",
    "        axs[0].plot(x[i], rho[i], marker='o', markerfacecolor=\"none\", markeredgecolor=\"blue\")\n",
    "        axs[1].plot(x[i], u[i], marker= 'o', markerfacecolor=\"none\", markeredgecolor=\"blue\")\n",
    "        axs[2].plot(x[i], P[i], marker= 'o', markerfacecolor=\"none\", markeredgecolor=\"blue\")\n",
    "plt.tight_layout()\n",
    "plt.show()"
   ]
  },
  {
   "cell_type": "code",
   "execution_count": 14,
   "id": "e1b5bb3c-3fa3-4497-80b0-826a0f8a2a94",
   "metadata": {},
   "outputs": [],
   "source": [
    "torch.save(classifier.state_dict(), \"../../../models/reduced/nn-red.pt\")"
   ]
  },
  {
   "cell_type": "code",
   "execution_count": 15,
   "id": "9beb88af-ce77-404a-843b-7c56c168daef",
   "metadata": {},
   "outputs": [
    {
     "data": {
      "text/plain": [
       "RecursiveScriptModule(\n",
       "  original_name=Shock_Cell_Classifier\n",
       "  (fc1): RecursiveScriptModule(original_name=Linear)\n",
       "  (fc2): RecursiveScriptModule(original_name=Linear)\n",
       "  (dropout5): RecursiveScriptModule(original_name=Dropout)\n",
       "  (dropout2): RecursiveScriptModule(original_name=Dropout)\n",
       "  (loss_fn): RecursiveScriptModule(original_name=CrossEntropyLoss)\n",
       ")"
      ]
     },
     "execution_count": 15,
     "metadata": {},
     "output_type": "execute_result"
    }
   ],
   "source": [
    "classifier.to_torchscript(\"../../../models/reduced/script-nn-red.pt\")"
   ]
  },
  {
   "cell_type": "code",
   "execution_count": 17,
   "id": "ae344ba7-554d-4d1a-9fab-6e67bed4844a",
   "metadata": {},
   "outputs": [],
   "source": [
    "\n",
    "np.savetxt(\"./w-b/reduced/fc1w.txt\", classifier.state_dict()[\"fc1.weight\"].numpy())\n",
    "np.savetxt(\"./w-b/reduced/fc1b.txt\", classifier.state_dict()[\"fc1.bias\"].numpy())\n",
    "np.savetxt(\"./w-b/reduced/fc2w.txt\", classifier.state_dict()[\"fc2.weight\"].numpy())\n",
    "np.savetxt(\"./w-b/reduced/fc2b.txt\", classifier.state_dict()[\"fc2.bias\"].numpy())"
   ]
  },
  {
   "cell_type": "code",
   "execution_count": null,
   "id": "5aa2a7a7",
   "metadata": {},
   "outputs": [],
   "source": []
  },
  {
   "cell_type": "code",
   "execution_count": null,
   "id": "418ff465",
   "metadata": {},
   "outputs": [],
   "source": []
  }
 ],
 "metadata": {
  "kernelspec": {
   "display_name": "Python 3 (ipykernel)",
   "language": "python",
   "name": "python3"
  },
  "language_info": {
   "codemirror_mode": {
    "name": "ipython",
    "version": 3
   },
   "file_extension": ".py",
   "mimetype": "text/x-python",
   "name": "python",
   "nbconvert_exporter": "python",
   "pygments_lexer": "ipython3",
   "version": "3.11.7"
  }
 },
 "nbformat": 4,
 "nbformat_minor": 5
}
